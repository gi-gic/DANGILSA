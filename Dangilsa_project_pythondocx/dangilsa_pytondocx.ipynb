{
 "cells": [
  {
   "cell_type": "code",
   "execution_count": 79,
   "id": "37297a50",
   "metadata": {
    "ExecuteTime": {
     "end_time": "2023-04-13T03:37:56.113404Z",
     "start_time": "2023-04-13T03:37:52.859039Z"
    }
   },
   "outputs": [
    {
     "name": "stdout",
     "output_type": "stream",
     "text": [
      "Requirement already satisfied: python-docx in c:\\users\\smhrd\\anaconda3\\lib\\site-packages (0.8.11)\n",
      "Requirement already satisfied: lxml>=2.3.2 in c:\\users\\smhrd\\anaconda3\\lib\\site-packages (from python-docx) (4.9.1)\n"
     ]
    }
   ],
   "source": [
    "# python-docx 패키지 설치\n",
    "!pip install python-docx\n",
    "\n",
    "# 가장처음표/ 첫행 /첫열/첫문단\n",
    "tables[0].rows[0].cells[0].paragraphs[0].text"
   ]
  },
  {
   "cell_type": "code",
   "execution_count": null,
   "id": "47614e81",
   "metadata": {
    "ExecuteTime": {
     "start_time": "2023-04-15T07:09:08.647Z"
    },
    "scrolled": true
   },
   "outputs": [
    {
     "name": "stdout",
     "output_type": "stream",
     "text": [
      " * Serving Flask app \"__main__\" (lazy loading)\n",
      " * Environment: production\n",
      "\u001b[31m   WARNING: This is a development server. Do not use it in a production deployment.\u001b[0m\n",
      "\u001b[2m   Use a production WSGI server instead.\u001b[0m\n",
      " * Debug mode: off\n"
     ]
    },
    {
     "name": "stderr",
     "output_type": "stream",
     "text": [
      " * Running on http://218.157.38.51:5000/ (Press CTRL+C to quit)\n",
      "218.157.38.51 - - [15/Apr/2023 16:09:13] \"POST /detection_results HTTP/1.1\" 200 -\n"
     ]
    },
    {
     "name": "stdout",
     "output_type": "stream",
     "text": [
      "data\n",
      "data\n"
     ]
    },
    {
     "name": "stderr",
     "output_type": "stream",
     "text": [
      "218.157.38.51 - - [15/Apr/2023 16:09:29] \"POST /detection_results HTTP/1.1\" 200 -\n"
     ]
    },
    {
     "name": "stdout",
     "output_type": "stream",
     "text": [
      "data\n",
      "data\n"
     ]
    }
   ],
   "source": [
    "import os\n",
    "from docx import Document\n",
    "\n",
    "import time\n",
    "now = time\n",
    "today = now.strftime('%Y%m%d')\n",
    "\n",
    "from flask import Flask, request\n",
    "\n",
    "# Flask 객체를 app 변수에 할당\n",
    "app = Flask(__name__)\n",
    "\n",
    "@app.route('/')\n",
    "def index():\n",
    "    return 'dangilsa server'\n",
    "\n",
    "@app.route('/detection_results', methods=['GET','POST'])\n",
    "def detection_results():\n",
    "    \n",
    "    user_oc = request.json['oc']\n",
    "    user_id = request.json['id']\n",
    "\n",
    "    print(user_oc)\n",
    "    print(user_id)\n",
    "\n",
    "    # 오늘치 PPE(보호구 지급 대장)이 작성되었는지 확인한다.\n",
    "    if(os.path.exists(f'PPE_{today}.docx') == True):\n",
    "        doc = Document(f'./PPE_{today}.docx')\n",
    "    elif(os.path.exists(f'PPE_{today}.docx') == False):\n",
    "        doc = Document('./PPE.docx')\n",
    "\n",
    "    tables = doc.tables\n",
    "\n",
    "    for oc in range(5, 30, 1): # 직종\n",
    "        oc_data = tables[0].rows[oc].cells[0].paragraphs[0]\n",
    "        if (oc_data.text == \"\"):\n",
    "            oc_data.add_run(f\"{user_oc}\")\n",
    "            break;\n",
    "    for st in range(5, 30, 1): # 성명\n",
    "        st_data = tables[0].rows[st].cells[1].paragraphs[0]\n",
    "        if (st_data.text == \"\"):\n",
    "            st_data.add_run(f\"{user_id}\")\n",
    "            break;\n",
    "    for he in range(5, 30, 1): # 안전모 착용 여부\n",
    "        he_data = tables[0].rows[he].cells[2].paragraphs[0]\n",
    "        if (he_data.text == \"\"):\n",
    "            he_data.add_run(\"O\")\n",
    "            break;\n",
    "    for day in range(5, 30, 1): # 지급일\n",
    "        day_data = tables[0].rows[day].cells[7].paragraphs[0]\n",
    "        if (day_data.text == \"\"):\n",
    "            day_data.add_run(f\"{today}\")\n",
    "            break;\n",
    "    doc.save(f'./PPE_{today}.docx')\n",
    "    return \"200 OK\"\n",
    "\n",
    "if __name__ == '__main__':\n",
    "    app.run(host='218.157.38.51')"
   ]
  },
  {
   "cell_type": "code",
   "execution_count": null,
   "id": "73532f1c",
   "metadata": {},
   "outputs": [],
   "source": []
  }
 ],
 "metadata": {
  "kernelspec": {
   "display_name": "Python 3 (ipykernel)",
   "language": "python",
   "name": "python3"
  },
  "language_info": {
   "codemirror_mode": {
    "name": "ipython",
    "version": 3
   },
   "file_extension": ".py",
   "mimetype": "text/x-python",
   "name": "python",
   "nbconvert_exporter": "python",
   "pygments_lexer": "ipython3",
   "version": "3.9.13"
  },
  "toc": {
   "base_numbering": 1,
   "nav_menu": {},
   "number_sections": true,
   "sideBar": true,
   "skip_h1_title": false,
   "title_cell": "Table of Contents",
   "title_sidebar": "Contents",
   "toc_cell": false,
   "toc_position": {},
   "toc_section_display": true,
   "toc_window_display": false
  }
 },
 "nbformat": 4,
 "nbformat_minor": 5
}
